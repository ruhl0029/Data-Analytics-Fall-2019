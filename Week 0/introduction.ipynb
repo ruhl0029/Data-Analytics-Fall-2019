{
 "cells": [
  {
   "cell_type": "markdown",
   "metadata": {
    "slideshow": {
     "slide_type": "slide"
    }
   },
   "source": [
    "## Wednesday, 9/4: Data Analytics for Economists\n",
    "\n",
    "\n",
    "\n",
    "\n",
    "### Sit up front! \n",
    "### Open up your laptop. \n",
    "* Go to kimjruhl.com\n",
    "* 'Teaching' > 'Data Analytics'\n",
    "* In 'Week 0' open 'introduction slides'\n",
    "\n",
    "### Outline:\n",
    "1. Data analysis examples: Thinking about data\n",
    "2. Why Python? Why not Excel?\n",
    "2. Syllabus stuff"
   ]
  },
  {
   "cell_type": "markdown",
   "metadata": {
    "slideshow": {
     "slide_type": "slide"
    }
   },
   "source": [
    "### Before we get started...\n",
    "\n",
    "* Me: Prof. Kim Joseph Ruhl\n",
    "\n",
    "\n",
    "* School: BS Bowling Green State University (Ohio); PhD U. Minnesota\n",
    "    * Studied computer science and economics\n",
    "\n",
    "\n",
    "* Jobs: Minneapolis FRB; U. Texas Austin; NYU Stern Business School; Penn State\n",
    "\n",
    "\n",
    "* Research: International finance, macro, trade, multinational firms\n",
    "    * Data + computational models\n",
    "    * If you are curious: [kimjruhl.com/research](http://kimjruhl.com/research)\n",
    "\n",
    "\n",
    "* Not work: Fly fishing, hiking, robots, home brewing \n"
   ]
  },
  {
   "cell_type": "markdown",
   "metadata": {
    "slideshow": {
     "slide_type": "slide"
    }
   },
   "source": [
    "### ... and a word on laptops\n",
    "* This is a laptops-open course\n",
    "\n",
    "\n",
    "* Resist the urge to view material not related to the course"
   ]
  },
  {
   "cell_type": "markdown",
   "metadata": {
    "slideshow": {
     "slide_type": "slide"
    }
   },
   "source": [
    "\n",
    "## Introduction: Thinking about data. \n",
    "\n",
    "This course is about using data and 'the right kind of analysis' to answer questions. \n",
    "\n",
    "1. What is the question we are trying to answer? Throughout the course (and the rest of your lives) you should be generating questions. \n",
    "2. Data: Where does it come from? What questions can it answer?\n",
    "3. What is 'the right kind of analysis?' Often, this is creating a visualization (e.g., a plot, a map) to convey information. Using the right kind of visualization is part of the analysis. \n",
    "\n",
    "Let's look at some visualizations:\n",
    "\n",
    "1. Gapminder\n",
    "2. Voting in Wisconsin\n",
    "3. The jobs report"
   ]
  },
  {
   "cell_type": "markdown",
   "metadata": {
    "slideshow": {
     "slide_type": "slide"
    }
   },
   "source": [
    "### Gapminder\n",
    "Go to [https://www.gapminder.org/tools/#$chart-type=bubbles] (open in new tab)\n",
    "\n",
    "1. What does the visualization tell you? \n",
    "2. What kind of data are used? Where are they from?\n",
    "3. What else would you like to know?"
   ]
  },
  {
   "cell_type": "markdown",
   "metadata": {
    "slideshow": {
     "slide_type": "slide"
    }
   },
   "source": [
    "### Voting in Wisconsin\n",
    "\n",
    "Go to [https://www.nytimes.com/elections/results/wisconsin](https://www.nytimes.com/elections/results/wisconsin) (new tab) and focus on the presidential results\n",
    "\n",
    "Take 5 minutes (work with those around you) and try to answer:\n",
    "1. What does the visualization tell you? \n",
    "2. What kind of data are used? Where are they from?\n",
    "3. What else would you like to know?"
   ]
  },
  {
   "cell_type": "markdown",
   "metadata": {
    "slideshow": {
     "slide_type": "slide"
    }
   },
   "source": [
    "### The employment situation\n",
    "\n",
    "Published the first Friday of each month. Find it at [https://www.bls.gov](https://www.bls.gov), by choosing from the 'Economic Releases' menu: 'Employment and Unemployment.'\n",
    "\n",
    "Review definitions:\n",
    "1. Employed\n",
    "\n",
    "2. Unemployed\n",
    "\n",
    "3. Not in the labor force\n",
    "\n",
    "Go to [https://projects.fivethirtyeight.com/jobs-day](https://projects.fivethirtyeight.com/jobs-day) (new tab)and scroll down to the figure titled 'The unemployment rate' and the figures that follow. \n",
    "\n",
    "Take 5 minutes (work with those around you) and try to answer:\n",
    "1. What does the visualization tell you? \n",
    "2. What kind of data are used? Where are they from?\n",
    "3. What else would you like to know?\n",
    "___\n"
   ]
  },
  {
   "cell_type": "markdown",
   "metadata": {
    "slideshow": {
     "slide_type": "slide"
    }
   },
   "source": [
    "## Why Python?\n",
    "\n",
    "We want to:\n",
    "* Work with large(ish) datasets\n",
    "* Manage numeric data and 'string' data\n",
    "* Have control over our figures' appearance \n",
    "* Be transparent: Can our work be replicated?\n",
    "* Automate repetitive stuff\n",
    "\n",
    "Python gives us\n",
    "* A reasonably fast language\n",
    "* Great support for numeric and string manipulation\n",
    "* Many plotting options\n",
    "* Ways to create well-documented analysis\n",
    "* Automation\n",
    "\n",
    " "
   ]
  },
  {
   "cell_type": "markdown",
   "metadata": {
    "slideshow": {
     "slide_type": "slide"
    }
   },
   "source": [
    "### An example\n",
    "Let's plot the dollar-yuan exchange rate to get feel for what we can do with Python. (I do not expect you to follow all of this today!) \n",
    "\n",
    "We will get the data from the [St. Louis FRB FRED](https://fred.stlouisfed.org/) database. We will work with FRED often. It is an easy place to get economic data."
   ]
  },
  {
   "cell_type": "code",
   "execution_count": 6,
   "metadata": {
    "slideshow": {
     "slide_type": "slide"
    }
   },
   "outputs": [],
   "source": [
    "# Do some preliminary things to get Python set up.\n",
    "\n",
    "# Import needed packages\n",
    "import pandas as pd                            # the workhorse data package\n",
    "\n",
    "# There is an issue with datareader. The line below is the quick fix. Supposed to be fixed in reader version 0.7. \n",
    "# See https://stackoverflow.com/questions/50394873/\n",
    "pd.core.common.is_list_like = pd.api.types.is_list_like\n",
    "\n",
    "import pandas_datareader.data as web           # for FRED data calls\n",
    "import matplotlib.pyplot as plt                # for plots\n",
    "import datetime as dt                          # for dates\n",
    "\n",
    "import pandas.plotting._converter as pandacnv\n",
    "pandacnv.register()\n",
    "\n",
    "# IPython command to include plots in the notebook\n",
    "%matplotlib inline"
   ]
  },
  {
   "cell_type": "code",
   "execution_count": 7,
   "metadata": {
    "slideshow": {
     "slide_type": "slide"
    }
   },
   "outputs": [
    {
     "name": "stdout",
     "output_type": "stream",
     "text": [
      "            EXCHUS\n",
      "DATE              \n",
      "1990-01-01  4.7339\n",
      "1990-02-01  4.7339\n",
      "1990-03-01  4.7339\n",
      "            EXCHUS\n",
      "DATE              \n",
      "2019-05-01  6.8519\n",
      "2019-06-01  6.8977\n",
      "2019-07-01  6.8775\n"
     ]
    }
   ],
   "source": [
    "# Create datetime objects to hold the begin and end dates\n",
    "start = dt.datetime(1990, 1, 1)\n",
    "end = dt.datetime(2019, 7, 1)\n",
    "\n",
    "# Get monthly Yuan-per-dollar exchange rate. 'fred' tells the data reader to use the FRED repository.\n",
    "# 'EXCHUS' is the name of the data series in FRED. You can find the series codes (names) on the FRED website.\n",
    "exchus = web.DataReader('EXCHUS', 'fred', start, end)\n",
    "\n",
    "# Print out the first 3 observations.\n",
    "print(exchus.head(3))\n",
    "\n",
    "# Print out the last 3 observations.\n",
    "print(exchus.tail(3))"
   ]
  },
  {
   "cell_type": "code",
   "execution_count": 8,
   "metadata": {
    "slideshow": {
     "slide_type": "slide"
    }
   },
   "outputs": [
    {
     "data": {
      "image/png": "[encoded data removed]",
      "text/plain": [
       "<Figure size 432x288 with 1 Axes>"
      ]
     },
     "metadata": {
      "needs_background": "light"
     },
     "output_type": "display_data"
    }
   ],
   "source": [
    "# The basic plotting command. The 'b-' means 'make the line blue.'\n",
    "plt.plot(exchus.index, exchus['EXCHUS'], 'b-' )\n",
    "plt.xlabel('date')                  # neccessary?\n",
    "plt.ylabel('yuan per dollar')\n",
    "plt.savefig('ch_us_exrate.pdf')     # Save the figure as a pdf. Good for including in documents.\n"
   ]
  },
  {
   "cell_type": "markdown",
   "metadata": {
    "slideshow": {
     "slide_type": "slide"
    }
   },
   "source": [
    "That worked pretty well! We could continue to customize the plot by adding data markers, changing colors, adding legends, etc. We will leave that stuff for later. \n",
    "\n",
    "We could have made that figure in Excel. Did Python buy us much? In this case, maybe not, although I would argue that \n",
    "```python\n",
    "exchus = web.DataReader('EXCHUS', 'fred', start, end)\n",
    "```\n",
    "is easier than going to FRED, downloading the data, getting set up in a workbook and then plotting. \n",
    "\n",
    "\n",
    "\n",
    "\n"
   ]
  },
  {
   "cell_type": "markdown",
   "metadata": {
    "slideshow": {
     "slide_type": "slide"
    }
   },
   "source": [
    "### Automating work in Python\n",
    "\n",
    "What if we need to make several plots? \n",
    "\n",
    "Python just requires a few extra lines of code. Again, don't worry about the details, we are just taking a quick look at what Python can do for us. All of this will make more sense later. \n"
   ]
  },
  {
   "cell_type": "code",
   "execution_count": 9,
   "metadata": {
    "slideshow": {
     "slide_type": "slide"
    }
   },
   "outputs": [
    {
     "name": "stdout",
     "output_type": "stream",
     "text": [
      "            EXCHUS    EXJPUS  EXCAUS\n",
      "DATE                                \n",
      "1990-01-01  4.7339  144.9819  1.1720\n",
      "1990-02-01  4.7339  145.6932  1.1965\n",
      "1990-03-01  4.7339  153.3082  1.1800\n"
     ]
    }
   ],
   "source": [
    "# Make list with the names of the data we would like to plot.\n",
    "ctry_list = ['EXCHUS', 'EXJPUS', 'EXCAUS']      # China, Japan, Canada\n",
    "\n",
    "# Make a list of the units for the y axis.\n",
    "units = ['yuan per dollar', 'yen per dollar', 'Canadian dollar per U.S. dollar' ]\n",
    "\n",
    "#Read the data. Pass a list of codes rather a single string.\n",
    "ex_many = web.DataReader(ctry_list, 'fred', start, end)\n",
    "print(ex_many.head(3))"
   ]
  },
  {
   "cell_type": "markdown",
   "metadata": {
    "slideshow": {
     "slide_type": "slide"
    }
   },
   "source": [
    "To plot, we loop over the list of variable names (and the units) and plot them. "
   ]
  },
  {
   "cell_type": "code",
   "execution_count": 10,
   "metadata": {
    "slideshow": {
     "slide_type": "slide"
    }
   },
   "outputs": [
    {
     "data": {
      "image/png": "[encoded data removed]",
      "text/plain": [
       "<Figure size 432x288 with 1 Axes>"
      ]
     },
     "metadata": {
      "needs_background": "light"
     },
     "output_type": "display_data"
    },
    {
     "data": {
      "image/png": "[encoded data removed]",
      "text/plain": [
       "<Figure size 432x288 with 1 Axes>"
      ]
     },
     "metadata": {
      "needs_background": "light"
     },
     "output_type": "display_data"
    },
    {
     "data": {
      "image/png": "[encoded data removed]",
      "text/plain": [
       "<Figure size 432x288 with 1 Axes>"
      ]
     },
     "metadata": {
      "needs_background": "light"
     },
     "output_type": "display_data"
    }
   ],
   "source": [
    "for ctry, unit in zip(ctry_list, units) :\n",
    "    plt.figure()\n",
    "    plt.plot(ex_many.index, ex_many[ctry], 'b-')\n",
    "    plt.ylabel(unit)"
   ]
  },
  {
   "cell_type": "markdown",
   "metadata": {
    "slideshow": {
     "slide_type": "slide"
    }
   },
   "source": [
    "## Course information\n",
    "\n",
    "* This information is in the syllabus\n",
    "* Ask questions as we go"
   ]
  },
  {
   "cell_type": "markdown",
   "metadata": {
    "slideshow": {
     "slide_type": "slide"
    }
   },
   "source": [
    "## Expectations\n",
    "* Prerequisites: Graduate standing\n",
    "  * Comfortable with statistics, econometrics\n",
    "  * NOT a prerequisite: coding experience\n",
    "  \n",
    "\n",
    "* Class is a mixture of **economics** and\n",
    "  * Learning to pose questions and think in terms of data\n",
    "  * Learning about data sources and how to use them\n",
    "  * Learning to program (as a means to an end)\n",
    "  * Learning to analyze data and present it in useful ways\n",
    "  \n",
    "  \n",
    " * Attendance\n",
    "   * Not mandatory, but expected\n",
    "   * Textbook is a reference\n",
    "   * Work through problems in class\n",
    "   * Chance to ask questions and make comments"
   ]
  },
  {
   "cell_type": "markdown",
   "metadata": {
    "slideshow": {
     "slide_type": "slide"
    }
   },
   "source": [
    "## Course materials\n",
    "* Reference text: *Python for Data Analysis* by Wes McKinney (2nd ed)\n",
    "  * This more of a reference than a textbook\n",
    "  * $30 on Amazon.com; ebook versions available\n",
    "  \n",
    "  \n",
    "* Besides the text: Lots (and lots and lots) of free online guides, tutorials, and references\n",
    "\n",
    "\n",
    "* Course webpage: [http://kimjruhl.com/data-analysis/](http://kimjruhl.com/data-analysis/)\n",
    "  * Everything you need is here\n",
    "  * Thematic and week-by-week schedule\n",
    "  * Links to data and resources\n",
    "  * Constantly being improved"
   ]
  },
  {
   "cell_type": "markdown",
   "metadata": {
    "slideshow": {
     "slide_type": "slide"
    }
   },
   "source": [
    "## Canvas\n",
    "* Used for assignments and announcements\n",
    "\n",
    "\n",
    "* My first time using Canvas (at students' request)\n",
    "\n",
    "\n",
    "* Did you receive an announcement from me? "
   ]
  },
  {
   "cell_type": "markdown",
   "metadata": {
    "slideshow": {
     "slide_type": "slide"
    }
   },
   "source": [
    "## Grades\n",
    "deliverable | weight in final grade\n",
    "------------- | ---\n",
    "Student survey | 1%\n",
    "Best 4 coding practices | 4%\n",
    "Exam 1 | 20%\n",
    "Exam 2| 20%\n",
    "Project preproposal | 10%\n",
    "Project proposal | 10%\n",
    "Project | 35%\n",
    "\n",
    "\n",
    "* **Coding practice:** Five assignments meant to help you practice coding. Graded check, check+, or check-. Check or check+ earns full 1%. Check- earns 0%. Lowest score dropped. \n",
    "\n",
    "\n",
    "* **Exams:** In-class exam (open book, open internet). Meant to test basic coding skills that should be routine. I will circulate a list of topics before the exam. "
   ]
  },
  {
   "cell_type": "markdown",
   "metadata": {
    "slideshow": {
     "slide_type": "slide"
    }
   },
   "source": [
    "* **Project:** This is a chance to develop a piece of data analysis that showcases what you have learned in class. \n",
    "\n",
    "\n",
    "* Work in group of up to three students. \n",
    "\n",
    "\n",
    "* Two final deliverables\n",
    "  1. A 3-page professional report that presents your analysis to someone who is interested in the results, but not the technical details\n",
    "  2. A well-documented Jupyter notebook with the technical details\n",
    "  \n",
    "  \n",
    "* Two intermediate deliverables\n",
    "  1.  **Project preproposal** (one Jupyter notebook). Clear statement of question. Brief discussion of the data. One relevant figure or statistic that shows your team has the data loaded and ready for analysis. \n",
    "  2.  **Project proposal** (one Jupyter notebook). Clear statement of question. Preliminary analysis. Work plan. The proposal goal is to make sure that you and I are on the same page before you do the hard work!"
   ]
  },
  {
   "cell_type": "markdown",
   "metadata": {
    "slideshow": {
     "slide_type": "slide"
    }
   },
   "source": [
    "## Attendance, again\n",
    "\n",
    "* No attendance grade, but you really should be here\n",
    "* Exams: If religious or university related, notify me ASAP\n",
    "  \n",
    "## Important dates\n",
    "\n",
    "* Survey due: September 6\n",
    "* Coding practices due: September 27, October 11, November 1 & 15, December 6 \n",
    "* Exams: October 16, November 20\n",
    "* Project preproposal: November 8\n",
    "* Project proposal: November 29\n",
    "* Project: December 13"
   ]
  },
  {
   "cell_type": "markdown",
   "metadata": {
    "slideshow": {
     "slide_type": "slide"
    }
   },
   "source": [
    "## Need some help?\n",
    "\n",
    "* Come see me (office hours T:2:30-3:30, R:10:00-11:00)\n",
    "\n",
    "\n",
    "* Send me email: ruhl2@wisc.edu\n",
    "\n",
    "\n",
    "* Google. Seriously! "
   ]
  },
  {
   "cell_type": "markdown",
   "metadata": {
    "slideshow": {
     "slide_type": "slide"
    }
   },
   "source": [
    "## Technical details\n",
    "* We will be working on Winstat\n",
    "  * Windows servers that are pre-loaded (and managed!) by the Social Sciences Computing Cooperative (SSCC)\n",
    "  * MA students and a few other already have accounts. Do you know your login? If not, email Caitlin Tefft (ctefft@ssc.wisc.edu) for help\n",
    "  * If you have never had a SSCC account, check your email for details. \n",
    "  * On Monday, we will go through connecting to winstat. If you are feeling up to it, go to [https://ssc.wisc.edu/sscc/winstat.htm](https://ssc.wisc.edu/sscc/winstat.htm) and see if you can get up and running.\n",
    "  "
   ]
  }
 ],
 "metadata": {
  "celltoolbar": "Slideshow",
  "kernelspec": {
   "display_name": "Python 3",
   "language": "python",
   "name": "python3"
  },
  "language_info": {
   "codemirror_mode": {
    "name": "ipython",
    "version": 3
   },
   "file_extension": ".py",
   "mimetype": "text/x-python",
   "name": "python",
   "nbconvert_exporter": "python",
   "pygments_lexer": "ipython3",
   "version": "3.7.3"
  }
 },
 "nbformat": 4,
 "nbformat_minor": 2
}
