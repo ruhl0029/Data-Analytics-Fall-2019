{
 "cells": [
  {
   "cell_type": "markdown",
   "metadata": {},
   "source": [
    "## Python basics: Part 2\n",
    "\n",
    "files needed = none\n",
    "\n",
    "Before we can start working with data, we need to work out some of the basics of Python. The goal is to learn enough so that we can do some interesting data work --- we do not need to be Python Jedi. \n",
    "\n",
    "Lists, tuples, and dicts are very powerful. We could spend weeks going through all the things we can do with them. Instead, we will cover some basics here, and add to our knowledge as needed. \n",
    "\n",
    "In this notebook we will cover (the terms ordered and mutable will make sense by the time we are done here)\n",
    "1. Lists  (ordered, mutable)\n",
    "2. Tuples (ordered, immutable)\n",
    "3. Dictionaries (unordered, mutable)\n",
    "4. More on types\n",
    "\n",
    "Remember: Ask questions as we go.\n",
    "\n",
    "### Data structures\n",
    "The types: `float`, `int`, and `str` are *scalar* types. Think of them as the individual data types. An important --- and very powerful --- part of Python is its *data structures* which collect scalar types (and also other data structures) together. These data structures include: `list`, `tuple`, and `dict`. We will use **lists** and **dicts** (dictionaries) extensively. "
   ]
  },
  {
   "cell_type": "markdown",
   "metadata": {},
   "source": [
    "### Lists\n",
    " \n",
    " A list is an ordered and modifiable (in Pythonese: mutable) collection of objects. We will use lists a lot. Let's try some out."
   ]
  },
  {
   "cell_type": "code",
   "execution_count": null,
   "metadata": {},
   "outputs": [],
   "source": [
    "# You define a list using square brackets\n",
    "\n",
    "number_list = [2, 3, 5, 8]   #a list of numeric data (integers)\n",
    "\n",
    "string_list = ['university', 'of', 'wisconsin', 'madison']  # a list of strings\n",
    "\n",
    "# Notice that the print function understands types. We have passed is floats, ints, strs, and now lists, and it 'knows'\n",
    "# how to print them out.\n",
    "\n",
    "\n",
    "print('The string list:')\n",
    "print(string_list)\n",
    "print('\\n')                           # '\\n' is just a string. \\n is the special character that creates a new line\n",
    "\n",
    "print('The number list:')\n",
    "print(number_list)     \n",
    "print(\"number_list's type\", type(number_list))\n",
    "\n"
   ]
  },
  {
   "cell_type": "markdown",
   "metadata": {},
   "source": [
    "We can make lists of mixed types. This would not work in many languages. "
   ]
  },
  {
   "cell_type": "code",
   "execution_count": null,
   "metadata": {},
   "outputs": [],
   "source": [
    "# Some numbers and some strings\n",
    "mixed_list = [1, 25, 'biochemistry', 3, 'foo' ]    # 'foo' is a programmers favorite generic placeholder\n",
    "\n",
    "print('The mixed list:')\n",
    "print(mixed_list)"
   ]
  },
  {
   "cell_type": "markdown",
   "metadata": {},
   "source": [
    "We can access an element of a list using square brackets, like this:"
   ]
  },
  {
   "cell_type": "code",
   "execution_count": null,
   "metadata": {},
   "outputs": [],
   "source": [
    "print(mixed_list[0], mixed_list[2], '\\n') # print out the first and third elements of the list\n",
    "\n",
    "print(type(mixed_list[0]), type(mixed_list[2])) # print out the types of the first and third elements\n",
    "\n"
   ]
  },
  {
   "cell_type": "markdown",
   "metadata": {},
   "source": [
    "**Key concept:** Lists are ordered, like an array in many other languages. \n",
    "\n",
    "**Important:** The list index starts with 0. (In some languages, the list index starts with 1.) "
   ]
  },
  {
   "cell_type": "code",
   "execution_count": null,
   "metadata": {},
   "outputs": [],
   "source": [
    "temp_list = ['Dane', 'County', 3]\n",
    "\n",
    "long_mixed_list_1 = mixed_list + temp_list     # This concatenates temp_list and mixed_list\n",
    "\n",
    "# The next line of code does two things. What are they?\n",
    "long_mixed_list_2 = mixed_list + ['Dane', 'County', 3]\n",
    "\n",
    "\n",
    "print('long_mixed_list_1:', long_mixed_list_1, '\\n')\n",
    "print('long_mixed_list_2:', long_mixed_list_2, '\\n')\n"
   ]
  },
  {
   "cell_type": "markdown",
   "metadata": {},
   "source": [
    "The code above shows us two python features. \n",
    "1. We can **concatenate** lists using the + operator\n",
    "2. We can create a list on the same line we assign it\n",
    "\n",
    "The '+' operator works like the print() function: it 'knows' what kinds of objects it is working with (lists, ints, strings) and takes the appropriate action. Everything, however, has its limits. "
   ]
  },
  {
   "cell_type": "code",
   "execution_count": null,
   "metadata": {},
   "outputs": [],
   "source": [
    "# What does this do?\n",
    "long_mixed_list_3 = mixed_list + 'Bucky'"
   ]
  },
  {
   "cell_type": "markdown",
   "metadata": {},
   "source": [
    "The '+' operator is not set up to concatenate a list to a string. We can see this in the `TypeError` message."
   ]
  },
  {
   "cell_type": "markdown",
   "metadata": {},
   "source": [
    "Because lists are **mutable**, we can assign new values to them."
   ]
  },
  {
   "cell_type": "code",
   "execution_count": null,
   "metadata": {},
   "outputs": [],
   "source": [
    "print('Before I change the first element:', long_mixed_list_2, '\\n')\n",
    "\n",
    "long_mixed_list_2[0] = 50      #Change the first element from 1 to 50\n",
    "print('After I changed the first element:', long_mixed_list_2)"
   ]
  },
  {
   "cell_type": "markdown",
   "metadata": {},
   "source": [
    "Lists are not limited to scalar types. What `Type` is each element in the following list?"
   ]
  },
  {
   "cell_type": "code",
   "execution_count": null,
   "metadata": {},
   "outputs": [],
   "source": [
    "xzibit_list = [1, 'oak', [3.2, 5, 'elm']]\n",
    "print(xzibit_list)\n",
    "print('element 1', type(xzibit_list[0]))\n",
    "print('element 2', type(xzibit_list[1]))\n",
    "print('element 3', type(xzibit_list[2]))\n"
   ]
  },
  {
   "cell_type": "markdown",
   "metadata": {},
   "source": [
    "We can have a list be an element within a list! \n",
    "\n",
    "How would you print (or otherwise access) the `[3.2,5,'elm']` list?\n",
    "\n",
    "How would you print 'elm'?"
   ]
  },
  {
   "cell_type": "code",
   "execution_count": null,
   "metadata": {},
   "outputs": [],
   "source": [
    "print('The sublist: ', xzibit_list[2])\n",
    "print('Is this elm?', xzibit_list[2][2])\n"
   ]
  },
  {
   "cell_type": "markdown",
   "metadata": {},
   "source": [
    "### Practice: Lists\n",
    "Take a few minutes and try the following. Feel free to chat with those around if you get stuck. I am here, too.\n",
    "\n",
    "Insert a code cell and try these out\n",
    "1. Create a list containing the integers `1, 2, 3`. Name it `my_int_list`.\n",
    "2. Create a list containing `1, 2, 3` where each number is a string, not an int. Name it `my_string_list`.\n",
    "3. What is the `Type` of `my_int_list` and `my_string_list`? Print out the types.\n",
    "\n",
    "Insert another code cell and \n",
    "1. Concatenate `my_int_list` and `my_string_list`. Name the new list `my_super_list`. \n",
    "2. Print out your super list.\n",
    "3. In your super list, change the integer 2 to your favorite number.\n",
    "4. In your super list, change the string 3 to your least favorite number. \n",
    "5. Print your super list. If you made a mistake, go back and fix it. \n",
    "\n"
   ]
  },
  {
   "cell_type": "markdown",
   "metadata": {},
   "source": [
    "## Tuples\n",
    "Tuples are collections of objects, like lists, but they are **immutable**: once they are created, they cannot be changed. We will not use tuples that often, but they will pop up, so we should be ready. \n",
    "\n",
    "We create a tuple with round brackets. "
   ]
  },
  {
   "cell_type": "code",
   "execution_count": null,
   "metadata": {},
   "outputs": [],
   "source": [
    "# You define a tuple using round brackets\n",
    "\n",
    "number_tuple = (2, 3, 5, 8)   #a tuple of numeric data\n",
    "\n",
    "string_tuple = ('university', 'of', 'wisconsin', 'madison')  # a tuple of strings\n",
    "\n",
    "print('number_tuple type:', type(number_tuple))\n",
    "print('number_tuple:', number_tuple, '\\n')\n",
    "\n",
    "print('number_list type:', type(number_list))\n",
    "print('number_list:',number_list)"
   ]
  },
  {
   "cell_type": "markdown",
   "metadata": {},
   "source": [
    "Notice the printed output: round vs. square brackets. Thanks `print()`!\n",
    "\n",
    "Now, let's see how immutability works. "
   ]
  },
  {
   "cell_type": "code",
   "execution_count": null,
   "metadata": {},
   "outputs": [],
   "source": [
    "# Change the second element of the list to 1000\n",
    "number_list[1] = 1000    \n",
    "print(number_list)"
   ]
  },
  {
   "cell_type": "code",
   "execution_count": null,
   "metadata": {},
   "outputs": [],
   "source": [
    "# Now try that with a tuple\n",
    "number_tuple[1] = 1000"
   ]
  },
  {
   "cell_type": "markdown",
   "metadata": {},
   "source": [
    "This property of tuples is useful if you have data that you want to protect from being accidentally changed. "
   ]
  },
  {
   "cell_type": "markdown",
   "metadata": {},
   "source": [
    "## Dictionaries (dicts)\n",
    "\n",
    "Dicts are unordered **key-value pairs.** Each element of a dict is made of a key and its associated value. The keys must be unique, but the values do not need to be. We create dicts with curly brackets. It's easiest to understand with some examples. \n"
   ]
  },
  {
   "cell_type": "code",
   "execution_count": null,
   "metadata": {},
   "outputs": [],
   "source": [
    "# This is a dict with five elements\n",
    "\n",
    "grades = {'A':4.0, 'B':3.0, 'C':2.0, 'D':1.0, 'F':0.0}   #I am associating the key A with the value 4.0\n",
    "print(type(grades))\n",
    "print(grades)\n"
   ]
  },
  {
   "cell_type": "markdown",
   "metadata": {},
   "source": [
    "We use the keys to refer to the values. "
   ]
  },
  {
   "cell_type": "code",
   "execution_count": null,
   "metadata": {},
   "outputs": [],
   "source": [
    "print(grades['B'], grades['D'])"
   ]
  },
  {
   "cell_type": "code",
   "execution_count": null,
   "metadata": {},
   "outputs": [],
   "source": [
    "# What happens here? Will this return 'B'?\n",
    "print(grades[3.0])"
   ]
  },
  {
   "cell_type": "markdown",
   "metadata": {},
   "source": [
    "You get an error here because a dictionary can only be referenced by its keys --- never by its values. The error message says `KeyError` because it is looking for a key named 3.0, and that key doesn't exist. \n",
    "\n"
   ]
  },
  {
   "cell_type": "code",
   "execution_count": null,
   "metadata": {},
   "outputs": [],
   "source": [
    "# let's try looking for the numeric grade associated with withdrawing from class\n",
    "print(grades['W'])"
   ]
  },
  {
   "cell_type": "markdown",
   "metadata": {},
   "source": [
    "We get the same `KeyError`, again, because the key `W` does not exist. \n",
    "\n",
    "\n",
    "We can add to our dictionary (it is mutable). We can also change the value of an existing entry."
   ]
  },
  {
   "cell_type": "code",
   "execution_count": null,
   "metadata": {},
   "outputs": [],
   "source": [
    "# Let's add a withdrawal score\n",
    "grades['W'] = 0.0\n",
    "print(grades, '\\n')\n",
    "\n",
    "# Our grading is generous!\n",
    "grades['F'] = 0.5\n",
    "print(grades)\n"
   ]
  },
  {
   "cell_type": "markdown",
   "metadata": {},
   "source": [
    "### Practice: Dicts\n",
    "Take a few minutes and try the following. Feel free to chat with those around if you get stuck. I am here, too.\n",
    "\n",
    "Insert a code cell and try these out\n",
    "1. Create a dict with keys: 'coke', 'pepsi', 'root beer', and 'fanta' and give each key a value that corresponds to your rating on a 1 to 10 scale with 1 being the worst and 10 the best. For example, I would rate root beer a 9. \n",
    "2. Print your dict.\n",
    "3. Can you rank more than one soda a 2?\n",
    "\n",
    "Insert a second cell and \n",
    "1. The coca-cola corp is hiring you as a celebrity endorser. Change your ranking for coke to a 10.\n",
    "2. Change your ranking of pepsi to a 1.\n",
    "3. Print your dict. \n",
    "\n",
    "Here is challenging but important example from my old colleagues at NYU Stern:\n",
    "\n",
    "Consider the dictionary\n",
    "```python\n",
    "data = {'Year': [1990, 2000, 2010], 'GDP':  [8.95, 12.56, 14.78]}\n",
    "```\n",
    "What are the keys here? The values? What do you think this dictionary represents?"
   ]
  },
  {
   "cell_type": "markdown",
   "metadata": {},
   "source": [
    "## More on types\n",
    "\n",
    "We have seen several types now: `int`, `float`, `str`, `tuple`, `dict`, and `list`. There a few more to come this semester and many more that we will not address. \n",
    "\n",
    "Types are great because many of the functions \\[like `print()`\\] and operators \\[like `+`\\] automatically know how to handle objects of different types. We don't need functions like `print_string()`, `print_int()`, `print_list()`...\n",
    "\n",
    "Types are also great because they keep us from doing dumb things, like trying to add an `int` and a `str`. (Insert a code cell and try it. What kind of error do you get?) There are languages that will not stop you from adding a string and an integer, even though the result will be garbage. "
   ]
  },
  {
   "cell_type": "markdown",
   "metadata": {},
   "source": [
    "### Changing types\n",
    "Here is something that comes up a lot in the 'wild.' You have a file with some data in it. When you read the file into your program, the numeric data are strings. Not good. (What is the difference between `y = 3 + 2` and `y = '3' + '2'` ?)\n",
    "\n",
    "Python gives us an easy way to change a variable's type. "
   ]
  },
  {
   "cell_type": "code",
   "execution_count": null,
   "metadata": {},
   "outputs": [],
   "source": [
    "golden_ratio_s = '1.6180339'               # What type is this variable? How can you check?\n",
    "print(type(golden_ratio_s))"
   ]
  },
  {
   "cell_type": "code",
   "execution_count": null,
   "metadata": {},
   "outputs": [],
   "source": [
    "# Now turn the string into a float\n",
    "\n",
    "golden_ratio_f = float(golden_ratio_s)     # What type is this variable? How can you check?\n",
    "\n",
    "print('golden_ratio_f is of type:', type(golden_ratio_f))"
   ]
  },
  {
   "cell_type": "markdown",
   "metadata": {},
   "source": [
    "We just 'cast' the string variable to a float variable. Can we do the reverse, and cast the string to a float?"
   ]
  },
  {
   "cell_type": "code",
   "execution_count": null,
   "metadata": {},
   "outputs": [],
   "source": [
    "# You can 'cast' the float back to a string with str()\n",
    "\n",
    "golden_ratio_s_2 = str(golden_ratio_f)\n",
    "print('golden_ratio_s_2 is of type:', type(golden_ratio_s_2))\n"
   ]
  },
  {
   "cell_type": "markdown",
   "metadata": {},
   "source": [
    "I am feeling pretty powerful right now. \n",
    "\n",
    "Can we turn the string into an int? \n",
    "\n",
    "We used `float()` to cast to a float, `str()` to cast to a string. \n",
    "We use the `int()` function to cast things to ints."
   ]
  },
  {
   "cell_type": "code",
   "execution_count": null,
   "metadata": {},
   "outputs": [],
   "source": [
    "golden_ratio_i = int(golden_ratio_s)    #Let's try from the string version"
   ]
  },
  {
   "cell_type": "markdown",
   "metadata": {},
   "source": [
    "Nope! The `int()` doesn't know how to convert a str with a decimal point float to an int. \n",
    "\n",
    "\n",
    "What if we tried to convert to an int from a float? "
   ]
  },
  {
   "cell_type": "code",
   "execution_count": null,
   "metadata": {},
   "outputs": [],
   "source": [
    "golden_ratio_i = int(golden_ratio_f)    #Let's try from the float version\n",
    "print(golden_ratio_i)"
   ]
  },
  {
   "cell_type": "markdown",
   "metadata": {},
   "source": [
    "What just happened? It did something, but it isn't obvious what int() should do to a float: Should it round it up? Round it down? Truncate it? There is no obvious way to turn a float into an int.\n",
    "\n",
    "If we look at the [documentation](https://docs.python.org/3/library/functions.html) will see that int() truncates floats towards zero. "
   ]
  },
  {
   "cell_type": "markdown",
   "metadata": {},
   "source": [
    "We can convert types with list() and tuple(), too. "
   ]
  },
  {
   "cell_type": "code",
   "execution_count": null,
   "metadata": {},
   "outputs": [],
   "source": [
    "x = [0,1,2,3]          # what type is this?\n",
    "x_tup = tuple(x)\n",
    "print(\"Can you tell x_tup's type from looking at the printout?\", x_tup)"
   ]
  },
  {
   "cell_type": "code",
   "execution_count": null,
   "metadata": {},
   "outputs": [],
   "source": [
    "# Another conversion that is often useful\n",
    "\n",
    "y = list('on wisconsin')\n",
    "print(y)"
   ]
  },
  {
   "cell_type": "markdown",
   "metadata": {},
   "source": [
    "### Practice: Types\n",
    "Take a few minutes and try the following. Feel free to chat with those around if you get stuck. I am  here, too.\n",
    "\n",
    "1. We have 5 integer observations in our dataset: 1, 3, 8, 3, 9. Unfortunately, the data file ran all the observations together and we are left with the variable `raw_data` in the cell below.\n",
    "2. What type is raw_data?\n",
    "3. Turn raw_data into a list. Print it.\n"
   ]
  },
  {
   "cell_type": "code",
   "execution_count": null,
   "metadata": {},
   "outputs": [],
   "source": [
    "raw_data = '13839'\n"
   ]
  },
  {
   "cell_type": "markdown",
   "metadata": {},
   "source": [
    "Is your data ready to be analyzed? Why not?\n",
    "\n",
    "1. In the cell below, covert your list to a list of integers. You might try repeating statements like `list_data[0]=int(list_data[0])`\n",
    "2. Print out your list of integers."
   ]
  },
  {
   "cell_type": "code",
   "execution_count": null,
   "metadata": {},
   "outputs": [],
   "source": []
  },
  {
   "cell_type": "markdown",
   "metadata": {},
   "source": [
    "That worked for our small list, but imagine having a list of several thousand elements. This approach will not work, but it introduced us to a common problem with data in the wild: numbers stored as text.  \n",
    "\n",
    "We will soon learn that Python has very powerful and simple ways to repeatedly apply operations to lists.  "
   ]
  }
 ],
 "metadata": {
  "celltoolbar": "Attachments",
  "kernelspec": {
   "display_name": "Python 3",
   "language": "python",
   "name": "python3"
  },
  "language_info": {
   "codemirror_mode": {
    "name": "ipython",
    "version": 3
   },
   "file_extension": ".py",
   "mimetype": "text/x-python",
   "name": "python",
   "nbconvert_exporter": "python",
   "pygments_lexer": "ipython3",
   "version": "3.7.3"
  }
 },
 "nbformat": 4,
 "nbformat_minor": 2
}
